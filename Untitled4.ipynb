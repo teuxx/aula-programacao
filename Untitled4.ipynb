{
  "nbformat": 4,
  "nbformat_minor": 0,
  "metadata": {
    "colab": {
      "provenance": [],
      "authorship_tag": "ABX9TyMEtVZgO3cX9nbs4YA2NjSe",
      "include_colab_link": true
    },
    "kernelspec": {
      "name": "python3",
      "display_name": "Python 3"
    },
    "language_info": {
      "name": "python"
    }
  },
  "cells": [
    {
      "cell_type": "markdown",
      "metadata": {
        "id": "view-in-github",
        "colab_type": "text"
      },
      "source": [
        "<a href=\"https://colab.research.google.com/github/teuxx/aula-programacao/blob/main/Untitled4.ipynb\" target=\"_parent\"><img src=\"https://colab.research.google.com/assets/colab-badge.svg\" alt=\"Open In Colab\"/></a>"
      ]
    },
    {
      "cell_type": "markdown",
      "source": [
        "#ex.05 transformando mm em polegada  "
      ],
      "metadata": {
        "id": "UregZihuIPTh"
      }
    },
    {
      "cell_type": "code",
      "execution_count": 4,
      "metadata": {
        "colab": {
          "base_uri": "https://localhost:8080/"
        },
        "id": "UV0XLTVCIEaZ",
        "outputId": "6dbc8c18-5f39-4e44-efa1-96d1eb637acb"
      },
      "outputs": [
        {
          "output_type": "stream",
          "name": "stdout",
          "text": [
            "digite valor em polegada:1\n",
            "o valor em mm é: 25.4\n"
          ]
        }
      ],
      "source": [
        "p = float (input(\"digite valor em polegada:\"))\n",
        "mm = p*25.4\n",
        "\n",
        "#mostra na tela\n",
        "print (\"o valor em mm é:\", mm)"
      ]
    }
  ]
}